{
 "cells": [
  {
   "cell_type": "code",
   "execution_count": 1,
   "metadata": {
    "collapsed": true
   },
   "outputs": [],
   "source": [
    "# -*- coding: utf-8 -*-\n",
    "import pandas as pd\n",
    "import os\n",
    "from backup_mongodb import DataAPI"
   ]
  },
  {
   "cell_type": "code",
   "execution_count": 2,
   "outputs": [],
   "source": [
    "# 获取etf数据\n",
    "path = os.getcwd()\n",
    "ETF_data = pd.read_csv(path+'/50ETF行情.csv', encoding='gbk').iloc[:, 1:]\n",
    "div_ad = pd.read_csv(path+'/50ETF分红调整.csv', encoding='gbk').iloc[:, 1:]\n",
    "div_ad.set_index('effectDate', inplace=True)\n",
    "ETF_data.set_index('endDate', inplace=True)\n",
    "fund_data = pd.concat([ETF_data['NAV'], div_ad['dividendAfTax']], join='outer', axis=1).fillna(0)\n",
    "fund_data.columns = [\"净值\", \"分红\"]\n",
    "fund_data.index = [i.replace(\"-\", \"\") for i in fund_data.index]"
   ],
   "metadata": {
    "collapsed": false,
    "pycharm": {
     "name": "#%%\n"
    }
   }
  },
  {
   "cell_type": "code",
   "execution_count": 3,
   "outputs": [
    {
     "ename": "ServerSelectionTimeoutError",
     "evalue": "192.168.1.90:27017: [Errno 51] Network is unreachable, Timeout: 30s, Topology Description: <TopologyDescription id: 62c53df8501aa2b50c4a4493, topology_type: Unknown, servers: [<ServerDescription ('192.168.1.90', 27017) server_type: Unknown, rtt: None, error=AutoReconnect('192.168.1.90:27017: [Errno 51] Network is unreachable')>]>",
     "output_type": "error",
     "traceback": [
      "\u001B[0;31m---------------------------------------------------------------------------\u001B[0m",
      "\u001B[0;31mServerSelectionTimeoutError\u001B[0m               Traceback (most recent call last)",
      "\u001B[0;32m/var/folders/cy/1bzmhwzs18z7mxd8b0kfm3s00000gn/T/ipykernel_45443/414886715.py\u001B[0m in \u001B[0;36m<module>\u001B[0;34m\u001B[0m\n\u001B[1;32m      2\u001B[0m \u001B[0mip_config\u001B[0m \u001B[0;34m=\u001B[0m \u001B[0;34m\"mongodb://192.168.1.90:27017/\"\u001B[0m\u001B[0;34m\u001B[0m\u001B[0;34m\u001B[0m\u001B[0m\n\u001B[1;32m      3\u001B[0m \u001B[0mclient\u001B[0m \u001B[0;34m=\u001B[0m \u001B[0mDataAPI\u001B[0m\u001B[0;34m(\u001B[0m\u001B[0mip_config\u001B[0m\u001B[0;34m)\u001B[0m\u001B[0;34m\u001B[0m\u001B[0;34m\u001B[0m\u001B[0m\n\u001B[0;32m----> 4\u001B[0;31m \u001B[0moption_data\u001B[0m \u001B[0;34m=\u001B[0m \u001B[0mclient\u001B[0m\u001B[0;34m.\u001B[0m\u001B[0mget_day_equity_option_market_data\u001B[0m\u001B[0;34m(\u001B[0m\u001B[0;34m\"510050\"\u001B[0m\u001B[0;34m)\u001B[0m\u001B[0;34m.\u001B[0m\u001B[0mset_index\u001B[0m\u001B[0;34m(\u001B[0m\u001B[0;34m\"TradingDay\"\u001B[0m\u001B[0;34m)\u001B[0m\u001B[0;34m\u001B[0m\u001B[0;34m\u001B[0m\u001B[0m\n\u001B[0m",
      "\u001B[0;32m~/Desktop/实习工作/Research/PPUT/backup_mongodb.py\u001B[0m in \u001B[0;36mget_day_equity_option_market_data\u001B[0;34m(self, symbol, count, start_date, end_date)\u001B[0m\n\u001B[1;32m    162\u001B[0m         \u001B[0;34m:\u001B[0m\u001B[0;32mreturn\u001B[0m\u001B[0;34m:\u001B[0m\u001B[0;34m\u001B[0m\u001B[0;34m\u001B[0m\u001B[0m\n\u001B[1;32m    163\u001B[0m         \"\"\"\n\u001B[0;32m--> 164\u001B[0;31m         return self._get_data_from_day_data(symbol=symbol, count=count, start_date=start_date, end_date=end_date,\n\u001B[0m\u001B[1;32m    165\u001B[0m                                             label=\"day_cross\", db_name=\"day_cross_option\")\n\u001B[1;32m    166\u001B[0m \u001B[0;34m\u001B[0m\u001B[0m\n",
      "\u001B[0;32m~/Desktop/实习工作/Research/PPUT/backup_mongodb.py\u001B[0m in \u001B[0;36m_get_data_from_day_data\u001B[0;34m(self, symbol, count, start_date, end_date, label, db_name)\u001B[0m\n\u001B[1;32m    193\u001B[0m                 \u001B[0mdate_list\u001B[0m \u001B[0;34m=\u001B[0m \u001B[0mdate_list\u001B[0m\u001B[0;34m[\u001B[0m\u001B[0mdate_list\u001B[0m \u001B[0;34m<=\u001B[0m \u001B[0mend_date\u001B[0m\u001B[0;34m]\u001B[0m\u001B[0;34m\u001B[0m\u001B[0;34m\u001B[0m\u001B[0m\n\u001B[1;32m    194\u001B[0m                 \u001B[0mstart_date\u001B[0m \u001B[0;34m=\u001B[0m \u001B[0mdate_list\u001B[0m\u001B[0;34m[\u001B[0m\u001B[0;34m-\u001B[0m\u001B[0mcount\u001B[0m\u001B[0;34m]\u001B[0m\u001B[0;34m\u001B[0m\u001B[0;34m\u001B[0m\u001B[0m\n\u001B[0;32m--> 195\u001B[0;31m             data = DataFrame.from_records(\n\u001B[0m\u001B[1;32m    196\u001B[0m                 collection.find({'TradingDay': {'$gte': start_date, '$lte': end_date}}))\n\u001B[1;32m    197\u001B[0m \u001B[0;34m\u001B[0m\u001B[0m\n",
      "\u001B[0;32m~/opt/anaconda3/lib/python3.9/site-packages/pandas/core/frame.py\u001B[0m in \u001B[0;36mfrom_records\u001B[0;34m(cls, data, index, exclude, columns, coerce_float, nrows)\u001B[0m\n\u001B[1;32m   2032\u001B[0m \u001B[0;34m\u001B[0m\u001B[0m\n\u001B[1;32m   2033\u001B[0m             \u001B[0;32mtry\u001B[0m\u001B[0;34m:\u001B[0m\u001B[0;34m\u001B[0m\u001B[0;34m\u001B[0m\u001B[0m\n\u001B[0;32m-> 2034\u001B[0;31m                 \u001B[0mfirst_row\u001B[0m \u001B[0;34m=\u001B[0m \u001B[0mnext\u001B[0m\u001B[0;34m(\u001B[0m\u001B[0mdata\u001B[0m\u001B[0;34m)\u001B[0m\u001B[0;34m\u001B[0m\u001B[0;34m\u001B[0m\u001B[0m\n\u001B[0m\u001B[1;32m   2035\u001B[0m             \u001B[0;32mexcept\u001B[0m \u001B[0mStopIteration\u001B[0m\u001B[0;34m:\u001B[0m\u001B[0;34m\u001B[0m\u001B[0;34m\u001B[0m\u001B[0m\n\u001B[1;32m   2036\u001B[0m                 \u001B[0;32mreturn\u001B[0m \u001B[0mcls\u001B[0m\u001B[0;34m(\u001B[0m\u001B[0mindex\u001B[0m\u001B[0;34m=\u001B[0m\u001B[0mindex\u001B[0m\u001B[0;34m,\u001B[0m \u001B[0mcolumns\u001B[0m\u001B[0;34m=\u001B[0m\u001B[0mcolumns\u001B[0m\u001B[0;34m)\u001B[0m\u001B[0;34m\u001B[0m\u001B[0;34m\u001B[0m\u001B[0m\n",
      "\u001B[0;32m~/opt/anaconda3/lib/python3.9/site-packages/pymongo/cursor.py\u001B[0m in \u001B[0;36mnext\u001B[0;34m(self)\u001B[0m\n\u001B[1;32m   1157\u001B[0m         \u001B[0;32mif\u001B[0m \u001B[0mself\u001B[0m\u001B[0;34m.\u001B[0m\u001B[0m__empty\u001B[0m\u001B[0;34m:\u001B[0m\u001B[0;34m\u001B[0m\u001B[0;34m\u001B[0m\u001B[0m\n\u001B[1;32m   1158\u001B[0m             \u001B[0;32mraise\u001B[0m \u001B[0mStopIteration\u001B[0m\u001B[0;34m\u001B[0m\u001B[0;34m\u001B[0m\u001B[0m\n\u001B[0;32m-> 1159\u001B[0;31m         \u001B[0;32mif\u001B[0m \u001B[0mlen\u001B[0m\u001B[0;34m(\u001B[0m\u001B[0mself\u001B[0m\u001B[0;34m.\u001B[0m\u001B[0m__data\u001B[0m\u001B[0;34m)\u001B[0m \u001B[0;32mor\u001B[0m \u001B[0mself\u001B[0m\u001B[0;34m.\u001B[0m\u001B[0m_refresh\u001B[0m\u001B[0;34m(\u001B[0m\u001B[0;34m)\u001B[0m\u001B[0;34m:\u001B[0m\u001B[0;34m\u001B[0m\u001B[0;34m\u001B[0m\u001B[0m\n\u001B[0m\u001B[1;32m   1160\u001B[0m             \u001B[0;32mreturn\u001B[0m \u001B[0mself\u001B[0m\u001B[0;34m.\u001B[0m\u001B[0m__data\u001B[0m\u001B[0;34m.\u001B[0m\u001B[0mpopleft\u001B[0m\u001B[0;34m(\u001B[0m\u001B[0;34m)\u001B[0m\u001B[0;34m\u001B[0m\u001B[0;34m\u001B[0m\u001B[0m\n\u001B[1;32m   1161\u001B[0m         \u001B[0;32melse\u001B[0m\u001B[0;34m:\u001B[0m\u001B[0;34m\u001B[0m\u001B[0;34m\u001B[0m\u001B[0m\n",
      "\u001B[0;32m~/opt/anaconda3/lib/python3.9/site-packages/pymongo/cursor.py\u001B[0m in \u001B[0;36m_refresh\u001B[0;34m(self)\u001B[0m\n\u001B[1;32m   1055\u001B[0m \u001B[0;34m\u001B[0m\u001B[0m\n\u001B[1;32m   1056\u001B[0m         \u001B[0;32mif\u001B[0m \u001B[0;32mnot\u001B[0m \u001B[0mself\u001B[0m\u001B[0;34m.\u001B[0m\u001B[0m__session\u001B[0m\u001B[0;34m:\u001B[0m\u001B[0;34m\u001B[0m\u001B[0;34m\u001B[0m\u001B[0m\n\u001B[0;32m-> 1057\u001B[0;31m             \u001B[0mself\u001B[0m\u001B[0;34m.\u001B[0m\u001B[0m__session\u001B[0m \u001B[0;34m=\u001B[0m \u001B[0mself\u001B[0m\u001B[0;34m.\u001B[0m\u001B[0m__collection\u001B[0m\u001B[0;34m.\u001B[0m\u001B[0mdatabase\u001B[0m\u001B[0;34m.\u001B[0m\u001B[0mclient\u001B[0m\u001B[0;34m.\u001B[0m\u001B[0m_ensure_session\u001B[0m\u001B[0;34m(\u001B[0m\u001B[0;34m)\u001B[0m\u001B[0;34m\u001B[0m\u001B[0;34m\u001B[0m\u001B[0m\n\u001B[0m\u001B[1;32m   1058\u001B[0m \u001B[0;34m\u001B[0m\u001B[0m\n\u001B[1;32m   1059\u001B[0m         \u001B[0;32mif\u001B[0m \u001B[0mself\u001B[0m\u001B[0;34m.\u001B[0m\u001B[0m__id\u001B[0m \u001B[0;32mis\u001B[0m \u001B[0;32mNone\u001B[0m\u001B[0;34m:\u001B[0m  \u001B[0;31m# Query\u001B[0m\u001B[0;34m\u001B[0m\u001B[0;34m\u001B[0m\u001B[0m\n",
      "\u001B[0;32m~/opt/anaconda3/lib/python3.9/site-packages/pymongo/mongo_client.py\u001B[0m in \u001B[0;36m_ensure_session\u001B[0;34m(self, session)\u001B[0m\n\u001B[1;32m   1601\u001B[0m             \u001B[0;31m# Don't make implicit sessions causally consistent. Applications\u001B[0m\u001B[0;34m\u001B[0m\u001B[0;34m\u001B[0m\u001B[0m\n\u001B[1;32m   1602\u001B[0m             \u001B[0;31m# should always opt-in.\u001B[0m\u001B[0;34m\u001B[0m\u001B[0;34m\u001B[0m\u001B[0m\n\u001B[0;32m-> 1603\u001B[0;31m             \u001B[0;32mreturn\u001B[0m \u001B[0mself\u001B[0m\u001B[0;34m.\u001B[0m\u001B[0m__start_session\u001B[0m\u001B[0;34m(\u001B[0m\u001B[0;32mTrue\u001B[0m\u001B[0;34m,\u001B[0m \u001B[0mcausal_consistency\u001B[0m\u001B[0;34m=\u001B[0m\u001B[0;32mFalse\u001B[0m\u001B[0;34m)\u001B[0m\u001B[0;34m\u001B[0m\u001B[0;34m\u001B[0m\u001B[0m\n\u001B[0m\u001B[1;32m   1604\u001B[0m         \u001B[0;32mexcept\u001B[0m \u001B[0;34m(\u001B[0m\u001B[0mConfigurationError\u001B[0m\u001B[0;34m,\u001B[0m \u001B[0mInvalidOperation\u001B[0m\u001B[0;34m)\u001B[0m\u001B[0;34m:\u001B[0m\u001B[0;34m\u001B[0m\u001B[0;34m\u001B[0m\u001B[0m\n\u001B[1;32m   1605\u001B[0m             \u001B[0;31m# Sessions not supported.\u001B[0m\u001B[0;34m\u001B[0m\u001B[0;34m\u001B[0m\u001B[0m\n",
      "\u001B[0;32m~/opt/anaconda3/lib/python3.9/site-packages/pymongo/mongo_client.py\u001B[0m in \u001B[0;36m__start_session\u001B[0;34m(self, implicit, **kwargs)\u001B[0m\n\u001B[1;32m   1551\u001B[0m     \u001B[0;32mdef\u001B[0m \u001B[0m__start_session\u001B[0m\u001B[0;34m(\u001B[0m\u001B[0mself\u001B[0m\u001B[0;34m,\u001B[0m \u001B[0mimplicit\u001B[0m\u001B[0;34m,\u001B[0m \u001B[0;34m**\u001B[0m\u001B[0mkwargs\u001B[0m\u001B[0;34m)\u001B[0m\u001B[0;34m:\u001B[0m\u001B[0;34m\u001B[0m\u001B[0;34m\u001B[0m\u001B[0m\n\u001B[1;32m   1552\u001B[0m         \u001B[0;31m# Raises ConfigurationError if sessions are not supported.\u001B[0m\u001B[0;34m\u001B[0m\u001B[0;34m\u001B[0m\u001B[0m\n\u001B[0;32m-> 1553\u001B[0;31m         \u001B[0mserver_session\u001B[0m \u001B[0;34m=\u001B[0m \u001B[0mself\u001B[0m\u001B[0;34m.\u001B[0m\u001B[0m_get_server_session\u001B[0m\u001B[0;34m(\u001B[0m\u001B[0;34m)\u001B[0m\u001B[0;34m\u001B[0m\u001B[0;34m\u001B[0m\u001B[0m\n\u001B[0m\u001B[1;32m   1554\u001B[0m         \u001B[0mopts\u001B[0m \u001B[0;34m=\u001B[0m \u001B[0mclient_session\u001B[0m\u001B[0;34m.\u001B[0m\u001B[0mSessionOptions\u001B[0m\u001B[0;34m(\u001B[0m\u001B[0;34m**\u001B[0m\u001B[0mkwargs\u001B[0m\u001B[0;34m)\u001B[0m\u001B[0;34m\u001B[0m\u001B[0;34m\u001B[0m\u001B[0m\n\u001B[1;32m   1555\u001B[0m         return client_session.ClientSession(\n",
      "\u001B[0;32m~/opt/anaconda3/lib/python3.9/site-packages/pymongo/mongo_client.py\u001B[0m in \u001B[0;36m_get_server_session\u001B[0;34m(self)\u001B[0m\n\u001B[1;32m   1587\u001B[0m     \u001B[0;32mdef\u001B[0m \u001B[0m_get_server_session\u001B[0m\u001B[0;34m(\u001B[0m\u001B[0mself\u001B[0m\u001B[0;34m)\u001B[0m\u001B[0;34m:\u001B[0m\u001B[0;34m\u001B[0m\u001B[0;34m\u001B[0m\u001B[0m\n\u001B[1;32m   1588\u001B[0m         \u001B[0;34m\"\"\"Internal: start or resume a _ServerSession.\"\"\"\u001B[0m\u001B[0;34m\u001B[0m\u001B[0;34m\u001B[0m\u001B[0m\n\u001B[0;32m-> 1589\u001B[0;31m         \u001B[0;32mreturn\u001B[0m \u001B[0mself\u001B[0m\u001B[0;34m.\u001B[0m\u001B[0m_topology\u001B[0m\u001B[0;34m.\u001B[0m\u001B[0mget_server_session\u001B[0m\u001B[0;34m(\u001B[0m\u001B[0;34m)\u001B[0m\u001B[0;34m\u001B[0m\u001B[0;34m\u001B[0m\u001B[0m\n\u001B[0m\u001B[1;32m   1590\u001B[0m \u001B[0;34m\u001B[0m\u001B[0m\n\u001B[1;32m   1591\u001B[0m     \u001B[0;32mdef\u001B[0m \u001B[0m_return_server_session\u001B[0m\u001B[0;34m(\u001B[0m\u001B[0mself\u001B[0m\u001B[0;34m,\u001B[0m \u001B[0mserver_session\u001B[0m\u001B[0;34m,\u001B[0m \u001B[0mlock\u001B[0m\u001B[0;34m)\u001B[0m\u001B[0;34m:\u001B[0m\u001B[0;34m\u001B[0m\u001B[0;34m\u001B[0m\u001B[0m\n",
      "\u001B[0;32m~/opt/anaconda3/lib/python3.9/site-packages/pymongo/topology.py\u001B[0m in \u001B[0;36mget_server_session\u001B[0;34m(self)\u001B[0m\n\u001B[1;32m    528\u001B[0m             \u001B[0;31m# Sessions are always supported in load balanced mode.\u001B[0m\u001B[0;34m\u001B[0m\u001B[0;34m\u001B[0m\u001B[0m\n\u001B[1;32m    529\u001B[0m             \u001B[0;32mif\u001B[0m \u001B[0;32mnot\u001B[0m \u001B[0mself\u001B[0m\u001B[0;34m.\u001B[0m\u001B[0m_settings\u001B[0m\u001B[0;34m.\u001B[0m\u001B[0mload_balanced\u001B[0m\u001B[0;34m:\u001B[0m\u001B[0;34m\u001B[0m\u001B[0;34m\u001B[0m\u001B[0m\n\u001B[0;32m--> 530\u001B[0;31m                 \u001B[0msession_timeout\u001B[0m \u001B[0;34m=\u001B[0m \u001B[0mself\u001B[0m\u001B[0;34m.\u001B[0m\u001B[0m_check_session_support\u001B[0m\u001B[0;34m(\u001B[0m\u001B[0;34m)\u001B[0m\u001B[0;34m\u001B[0m\u001B[0;34m\u001B[0m\u001B[0m\n\u001B[0m\u001B[1;32m    531\u001B[0m             \u001B[0;32melse\u001B[0m\u001B[0;34m:\u001B[0m\u001B[0;34m\u001B[0m\u001B[0;34m\u001B[0m\u001B[0m\n\u001B[1;32m    532\u001B[0m                 \u001B[0;31m# Sessions never time out in load balanced mode.\u001B[0m\u001B[0;34m\u001B[0m\u001B[0;34m\u001B[0m\u001B[0m\n",
      "\u001B[0;32m~/opt/anaconda3/lib/python3.9/site-packages/pymongo/topology.py\u001B[0m in \u001B[0;36m_check_session_support\u001B[0;34m(self)\u001B[0m\n\u001B[1;32m    512\u001B[0m                         None)\n\u001B[1;32m    513\u001B[0m             \u001B[0;32melif\u001B[0m \u001B[0;32mnot\u001B[0m \u001B[0mself\u001B[0m\u001B[0;34m.\u001B[0m\u001B[0m_description\u001B[0m\u001B[0;34m.\u001B[0m\u001B[0mreadable_servers\u001B[0m\u001B[0;34m:\u001B[0m\u001B[0;34m\u001B[0m\u001B[0;34m\u001B[0m\u001B[0m\n\u001B[0;32m--> 514\u001B[0;31m                 self._select_servers_loop(\n\u001B[0m\u001B[1;32m    515\u001B[0m                     \u001B[0mreadable_server_selector\u001B[0m\u001B[0;34m,\u001B[0m\u001B[0;34m\u001B[0m\u001B[0;34m\u001B[0m\u001B[0m\n\u001B[1;32m    516\u001B[0m                     \u001B[0mself\u001B[0m\u001B[0;34m.\u001B[0m\u001B[0m_settings\u001B[0m\u001B[0;34m.\u001B[0m\u001B[0mserver_selection_timeout\u001B[0m\u001B[0;34m,\u001B[0m\u001B[0;34m\u001B[0m\u001B[0;34m\u001B[0m\u001B[0m\n",
      "\u001B[0;32m~/opt/anaconda3/lib/python3.9/site-packages/pymongo/topology.py\u001B[0m in \u001B[0;36m_select_servers_loop\u001B[0;34m(self, selector, timeout, address)\u001B[0m\n\u001B[1;32m    214\u001B[0m             \u001B[0;31m# No suitable servers.\u001B[0m\u001B[0;34m\u001B[0m\u001B[0;34m\u001B[0m\u001B[0m\n\u001B[1;32m    215\u001B[0m             \u001B[0;32mif\u001B[0m \u001B[0mtimeout\u001B[0m \u001B[0;34m==\u001B[0m \u001B[0;36m0\u001B[0m \u001B[0;32mor\u001B[0m \u001B[0mnow\u001B[0m \u001B[0;34m>\u001B[0m \u001B[0mend_time\u001B[0m\u001B[0;34m:\u001B[0m\u001B[0;34m\u001B[0m\u001B[0;34m\u001B[0m\u001B[0m\n\u001B[0;32m--> 216\u001B[0;31m                 raise ServerSelectionTimeoutError(\n\u001B[0m\u001B[1;32m    217\u001B[0m                     \u001B[0;34m\"%s, Timeout: %ss, Topology Description: %r\"\u001B[0m \u001B[0;34m%\u001B[0m\u001B[0;34m\u001B[0m\u001B[0;34m\u001B[0m\u001B[0m\n\u001B[1;32m    218\u001B[0m                     (self._error_message(selector), timeout, self.description))\n",
      "\u001B[0;31mServerSelectionTimeoutError\u001B[0m: 192.168.1.90:27017: [Errno 51] Network is unreachable, Timeout: 30s, Topology Description: <TopologyDescription id: 62c53df8501aa2b50c4a4493, topology_type: Unknown, servers: [<ServerDescription ('192.168.1.90', 27017) server_type: Unknown, rtt: None, error=AutoReconnect('192.168.1.90:27017: [Errno 51] Network is unreachable')>]>"
     ]
    }
   ],
   "source": [
    "# 获取期权数据\n",
    "ip_config = \"mongodb://192.168.1.90:27017/\"\n",
    "client = DataAPI(ip_config)\n",
    "option_data = client.get_day_equity_option_market_data(\"510050\").set_index(\"TradingDay\")"
   ],
   "metadata": {
    "collapsed": false,
    "pycharm": {
     "name": "#%%\n"
    }
   }
  },
  {
   "cell_type": "code",
   "execution_count": 11,
   "outputs": [],
   "source": [
    "def first_day_build(option_data, fund_data):\n",
    "    index_df = []\n",
    "    first_date = option_data.sort_index().index[0]\n",
    "\n",
    "    # 第一天的期权套保实现与资产配置计算\n",
    "    data = option_data.loc[first_date]\n",
    "    data = data.loc[~data[\"IsCall\"]]\n",
    "    data = data.loc[data[\"ExpirationDate\"] == pd.unique(data[\"ExpirationDate\"])[0]] # 行权日为第一个月的期权数据\n",
    "    data = data.sort_values(\"StrikePrice\")\n",
    "    expir_date = data[\"ExpirationDate\"].iloc[0] # strikeprice最低的合约的行权日期\n",
    "\n",
    "    stock_price = fund_data.loc[first_date, \"净值\"] # ETF Price\n",
    "    threshold = stock_price * 0.95 # the threshold of strike price  (<= 0.95*stock_price)\n",
    "\n",
    "    tmp = data.loc[data[\"StrikePrice\"] <= threshold] # 行权价格低于threshold的第一天的合约\n",
    "\n",
    "\n",
    "\n",
    "    # 建仓\n",
    "    if len(tmp) > 0:\n",
    "        tmp = data.loc[data[\"StrikePrice\"] <= threshold]\n",
    "        tmp = tmp.sort_values(\"StrikePrice\").iloc[-1]\n",
    "\n",
    "    else:\n",
    "        tmp = data.sort_values(\"StrikePrice\").iloc[0]\n",
    "\n",
    "    stock = stock_price * 10000\n",
    "    cash = fund_data.loc[first_date, \"分红\"] * 10000\n",
    "    option = tmp[\"Premium\"] * tmp[\"Unit\"] # 在下一步换仓时得改变\n",
    "    price = stock + option# portfolio value\n",
    "    symbol = tmp[\"InstrumentID\"] # 建仓的合约\n",
    "    expir_price = tmp[\"StrikePrice\"] # 行权价格\n",
    "    Unit = 10000\n",
    "\n",
    "    index_df.append([first_date, fund_data.loc[first_date, \"净值\"], stock, cash, symbol, expir_price, Unit, option, price])\n",
    "\n",
    "    # 持仓至下一个结算日前一天 资产变化情况\n",
    "    for date in fund_data.loc[first_date:expir_date].iloc[1:-1].index:\n",
    "        stock = fund_data.loc[date, \"净值\"] * 10000\n",
    "        cash = fund_data.loc[date, \"分红\"] * 10000\n",
    "        data = option_data.loc[date]\n",
    "        tmp = data.loc[data[\"InstrumentID\"] == symbol].iloc[0]\n",
    "        option = tmp[\"Premium\"] * tmp[\"Unit\"]\n",
    "        price = stock + option\n",
    "        symbol = tmp[\"InstrumentID\"]\n",
    "        expir_price = tmp[\"StrikePrice\"]\n",
    "        Unit = 10000\n",
    "        index_df.append([date, fund_data.loc[date, \"净值\"], stock, cash, symbol, expir_price, Unit, option, price])\n",
    "    index_df = pd.DataFrame(index_df, columns=[\"date\", \"stock_price\", \"50ETF\", \"Cash\", \"Symbol\", \"Strike\", \"Unit\", \"Option\", \"Total\"])\n",
    "    first_swap_date = index_df['date'].iloc[-1]\n",
    "    return index_df, first_swap_date"
   ],
   "metadata": {
    "collapsed": false,
    "pycharm": {
     "name": "#%%\n"
    }
   }
  },
  {
   "cell_type": "code",
   "execution_count": 12,
   "outputs": [],
   "source": [
    "def get_pput(index_df):\n",
    "\n",
    "    # expir_date-1 换仓 重新配置portfolio\n",
    "\n",
    "    swap_date = index_df['date'].iloc[-1]\n",
    "\n",
    "    stock_price = fund_data.loc[swap_date, '净值'] #\n",
    "\n",
    "    threshold = stock_price * 0.95\n",
    "    Total = index_df.iloc[-1]['Total']\n",
    "\n",
    "\n",
    "    data = option_data.loc[~option_data['IsCall']].loc[swap_date]\n",
    "    data = data[data.ExpirationDate == sorted(pd.unique(data.ExpirationDate))[1]]\n",
    "\n",
    "    tmp = data.loc[data.StrikePrice <= threshold]\n",
    "    if len(tmp) > 0:\n",
    "        tmp = tmp.sort_values('StrikePrice').iloc[-1]\n",
    "\n",
    "    else:\n",
    "        tmp = data.sort_values('StrikePrice').iloc[0]\n",
    "\n",
    "\n",
    "    Unit = Total/(stock_price + tmp['Premium'])\n",
    "\n",
    "    # symbol 改变\n",
    "    symbol = tmp[\"InstrumentID\"]\n",
    "    # Unit, symbol改变 换仓完成\n",
    "\n",
    "\n",
    "\n",
    "    # 开始下一个月的滚动 更新swap_date\n",
    "    try:\n",
    "        index = list(pd.unique(option_data.index)).index(str(tmp['ExpirationDate']))\n",
    "    except:\n",
    "        index = 0\n",
    "        print(\"行权期还未到来\")\n",
    "    new_swap_date = str(pd.unique(option_data.index)[index-1])\n",
    "    # for date in fund_data.loc[swap_date:expir_date].\n",
    "    new_df = []\n",
    "    for date in sorted(list(set(fund_data.loc[swap_date: new_swap_date].iloc[1:].index).intersection(set(option_data.loc[swap_date: new_swap_date].iloc[1:].index)))):\n",
    "        stock = fund_data.loc[date, \"净值\"] * Unit\n",
    "        cash = fund_data.loc[date, \"分红\"] * Unit\n",
    "        data = option_data.loc[date]\n",
    "        tmp = data.loc[data[\"InstrumentID\"] == symbol].iloc[0]\n",
    "        option = tmp[\"Premium\"] * Unit\n",
    "        price = stock + option\n",
    "        expir_price = tmp[\"StrikePrice\"]\n",
    "        new_df.append([date, fund_data.loc[date, \"净值\"], stock, cash, symbol, expir_price, Unit, option, price])\n",
    "    new_df = pd.DataFrame(new_df, columns=[\"date\", \"stock_price\", \"50ETF\", \"Cash\", \"Symbol\", \"Strike\", \"Unit\", \"Option\", \"Total\"])\n",
    "    index_df = pd.concat([index_df, new_df])\n",
    "    swap_date = new_swap_date\n",
    "    return index_df, swap_date"
   ],
   "metadata": {
    "collapsed": false,
    "pycharm": {
     "name": "#%%\n"
    }
   }
  },
  {
   "cell_type": "code",
   "execution_count": 13,
   "outputs": [],
   "source": [
    "def main():\n",
    "    swap_date_lis = []\n",
    "    index_df, swap_date = first_day_build(option_data, fund_data)\n",
    "    swap_date_lis.append(swap_date)\n",
    "\n",
    "    while pd.to_datetime(swap_date).date()<pd.to_datetime('20211230').date():\n",
    "        index_df, swap_date = get_pput(index_df)\n",
    "        swap_date_lis.append(swap_date)\n",
    "        continue\n",
    "\n",
    "    index_df[\"PPUT\"] = ((index_df[\"Total\"] + index_df[\"Cash\"]) / index_df[\"Total\"].shift(1)).fillna(1)\n",
    "    index_df[\"PPUT\"] = index_df[\"PPUT\"].cumprod() * 1000\n",
    "    index_df[\"benchmark\"] = list(index_df[\"stock_price\"] * 10000)\n",
    "\n",
    "    index_df['Index'] = (index_df[\"benchmark\"] / index_df[\"benchmark\"].shift(1)).fillna(1)\n",
    "    index_df['Index'] = index_df[\"Index\"].cumprod() * 1000\n",
    "\n",
    "    del index_df['benchmark']\n",
    "    index_df[\"Index\"] = index_df[\"50ETF\"] + index_df[\"Cash\"]/index_df[\"Unit\"] * 10000\n",
    "    index_df[\"Index\"] = (index_df[\"Index\"] / index_df[\"Index\"].shift(1)).fillna(1)\n",
    "    index_df[\"Index\"] = index_df[\"Index\"].cumprod() * 1000\n",
    "    return index_df\n",
    "\n"
   ],
   "metadata": {
    "collapsed": false,
    "pycharm": {
     "name": "#%%\n"
    }
   }
  },
  {
   "cell_type": "code",
   "execution_count": 14,
   "outputs": [
    {
     "name": "stdout",
     "output_type": "stream",
     "text": [
      "行权期还未到来\n"
     ]
    }
   ],
   "source": [
    "pput_df = main()"
   ],
   "metadata": {
    "collapsed": false,
    "pycharm": {
     "name": "#%%\n"
    }
   }
  },
  {
   "cell_type": "code",
   "execution_count": 15,
   "outputs": [
    {
     "data": {
      "text/plain": "        date  stock_price         50ETF  Cash    Symbol  Strike         Unit  \\\n0   20150209        2.333  23330.000000   0.0  10000006   2.200  10000.00000   \n1   20150210        2.369  23690.000000   0.0  10000006   2.200  10000.00000   \n2   20150211        2.381  23810.000000   0.0  10000006   2.200  10000.00000   \n3   20150212        2.383  23830.000000   0.0  10000006   2.200  10000.00000   \n4   20150213        2.393  23930.000000   0.0  10000006   2.200  10000.00000   \n..       ...          ...           ...   ...       ...     ...          ...   \n3   20211227        3.265  35752.199883   0.0  10003720   3.061  10950.13779   \n4   20211228        3.290  36025.953328   0.0  10003720   3.061  10950.13779   \n5   20211229        3.227  35336.094647   0.0  10003720   3.061  10950.13779   \n6   20211230        3.248  35566.047540   0.0  10003720   3.061  10950.13779   \n7   20211231        3.261  35708.399332   0.0  10003720   3.061  10950.13779   \n\n        Option         Total         PPUT        Index  \n0   617.000000  23947.000000  1000.000000  1000.000000  \n1   451.000000  24141.000000  1008.101224  1015.430776  \n2   321.000000  24131.000000  1007.683635  1020.574368  \n3   224.000000  24054.000000  1004.468201  1021.431633  \n4   159.000000  24089.000000  1005.929762  1025.717960  \n..         ...           ...          ...          ...  \n3    51.465647  35803.665530  1656.748976  1532.456060  \n4    33.945428  36059.898756  1668.605699  1544.190027  \n5   108.406364  35444.501010  1640.129297  1514.620431  \n6    62.415786  35628.463327  1648.641816  1524.476963  \n7    54.750688  35763.150019  1654.874195  1530.578625  \n\n[1677 rows x 11 columns]",
      "text/html": "<div>\n<style scoped>\n    .dataframe tbody tr th:only-of-type {\n        vertical-align: middle;\n    }\n\n    .dataframe tbody tr th {\n        vertical-align: top;\n    }\n\n    .dataframe thead th {\n        text-align: right;\n    }\n</style>\n<table border=\"1\" class=\"dataframe\">\n  <thead>\n    <tr style=\"text-align: right;\">\n      <th></th>\n      <th>date</th>\n      <th>stock_price</th>\n      <th>50ETF</th>\n      <th>Cash</th>\n      <th>Symbol</th>\n      <th>Strike</th>\n      <th>Unit</th>\n      <th>Option</th>\n      <th>Total</th>\n      <th>PPUT</th>\n      <th>Index</th>\n    </tr>\n  </thead>\n  <tbody>\n    <tr>\n      <th>0</th>\n      <td>20150209</td>\n      <td>2.333</td>\n      <td>23330.000000</td>\n      <td>0.0</td>\n      <td>10000006</td>\n      <td>2.200</td>\n      <td>10000.00000</td>\n      <td>617.000000</td>\n      <td>23947.000000</td>\n      <td>1000.000000</td>\n      <td>1000.000000</td>\n    </tr>\n    <tr>\n      <th>1</th>\n      <td>20150210</td>\n      <td>2.369</td>\n      <td>23690.000000</td>\n      <td>0.0</td>\n      <td>10000006</td>\n      <td>2.200</td>\n      <td>10000.00000</td>\n      <td>451.000000</td>\n      <td>24141.000000</td>\n      <td>1008.101224</td>\n      <td>1015.430776</td>\n    </tr>\n    <tr>\n      <th>2</th>\n      <td>20150211</td>\n      <td>2.381</td>\n      <td>23810.000000</td>\n      <td>0.0</td>\n      <td>10000006</td>\n      <td>2.200</td>\n      <td>10000.00000</td>\n      <td>321.000000</td>\n      <td>24131.000000</td>\n      <td>1007.683635</td>\n      <td>1020.574368</td>\n    </tr>\n    <tr>\n      <th>3</th>\n      <td>20150212</td>\n      <td>2.383</td>\n      <td>23830.000000</td>\n      <td>0.0</td>\n      <td>10000006</td>\n      <td>2.200</td>\n      <td>10000.00000</td>\n      <td>224.000000</td>\n      <td>24054.000000</td>\n      <td>1004.468201</td>\n      <td>1021.431633</td>\n    </tr>\n    <tr>\n      <th>4</th>\n      <td>20150213</td>\n      <td>2.393</td>\n      <td>23930.000000</td>\n      <td>0.0</td>\n      <td>10000006</td>\n      <td>2.200</td>\n      <td>10000.00000</td>\n      <td>159.000000</td>\n      <td>24089.000000</td>\n      <td>1005.929762</td>\n      <td>1025.717960</td>\n    </tr>\n    <tr>\n      <th>...</th>\n      <td>...</td>\n      <td>...</td>\n      <td>...</td>\n      <td>...</td>\n      <td>...</td>\n      <td>...</td>\n      <td>...</td>\n      <td>...</td>\n      <td>...</td>\n      <td>...</td>\n      <td>...</td>\n    </tr>\n    <tr>\n      <th>3</th>\n      <td>20211227</td>\n      <td>3.265</td>\n      <td>35752.199883</td>\n      <td>0.0</td>\n      <td>10003720</td>\n      <td>3.061</td>\n      <td>10950.13779</td>\n      <td>51.465647</td>\n      <td>35803.665530</td>\n      <td>1656.748976</td>\n      <td>1532.456060</td>\n    </tr>\n    <tr>\n      <th>4</th>\n      <td>20211228</td>\n      <td>3.290</td>\n      <td>36025.953328</td>\n      <td>0.0</td>\n      <td>10003720</td>\n      <td>3.061</td>\n      <td>10950.13779</td>\n      <td>33.945428</td>\n      <td>36059.898756</td>\n      <td>1668.605699</td>\n      <td>1544.190027</td>\n    </tr>\n    <tr>\n      <th>5</th>\n      <td>20211229</td>\n      <td>3.227</td>\n      <td>35336.094647</td>\n      <td>0.0</td>\n      <td>10003720</td>\n      <td>3.061</td>\n      <td>10950.13779</td>\n      <td>108.406364</td>\n      <td>35444.501010</td>\n      <td>1640.129297</td>\n      <td>1514.620431</td>\n    </tr>\n    <tr>\n      <th>6</th>\n      <td>20211230</td>\n      <td>3.248</td>\n      <td>35566.047540</td>\n      <td>0.0</td>\n      <td>10003720</td>\n      <td>3.061</td>\n      <td>10950.13779</td>\n      <td>62.415786</td>\n      <td>35628.463327</td>\n      <td>1648.641816</td>\n      <td>1524.476963</td>\n    </tr>\n    <tr>\n      <th>7</th>\n      <td>20211231</td>\n      <td>3.261</td>\n      <td>35708.399332</td>\n      <td>0.0</td>\n      <td>10003720</td>\n      <td>3.061</td>\n      <td>10950.13779</td>\n      <td>54.750688</td>\n      <td>35763.150019</td>\n      <td>1654.874195</td>\n      <td>1530.578625</td>\n    </tr>\n  </tbody>\n</table>\n<p>1677 rows × 11 columns</p>\n</div>"
     },
     "execution_count": 15,
     "metadata": {},
     "output_type": "execute_result"
    }
   ],
   "source": [
    "pput_df"
   ],
   "metadata": {
    "collapsed": false,
    "pycharm": {
     "name": "#%%\n"
    }
   }
  }
 ],
 "metadata": {
  "kernelspec": {
   "display_name": "Python 3",
   "language": "python",
   "name": "python3"
  },
  "language_info": {
   "codemirror_mode": {
    "name": "ipython",
    "version": 2
   },
   "file_extension": ".py",
   "mimetype": "text/x-python",
   "name": "python",
   "nbconvert_exporter": "python",
   "pygments_lexer": "ipython2",
   "version": "2.7.6"
  }
 },
 "nbformat": 4,
 "nbformat_minor": 0
}